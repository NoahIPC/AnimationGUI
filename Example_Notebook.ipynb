{
 "cells": [
  {
   "cell_type": "markdown",
   "metadata": {},
   "source": [
    "Copyright 2021, Integral Consulting Inc. All rights reserved.\n",
    "\n",
    "Example Notebook.ipynb.py (filename in case the notebook gets renamed) \n",
    "\n",
    "**PURPOSE**\n",
    "Description of notebook \n",
    "\n",
    "**PROJECT INFORMATION**\n",
    "\n",
    "Name:\n",
    "\n",
    "Number:\n",
    "\n",
    "**AUTHORS** (Authors to use initals in history)\n",
    "\n",
    "**NOTES** \n",
    "(Data descriptions and any script specific notes)\n",
    "1. \n",
    "2. \n",
    "\n",
    "**HISTORY**\n",
    "\n",
    "Note: creata a new line by insertng an empty row\n",
    "\n",
    "YYYY-MM-DD - name/initials if using AUTHORS- Don't forget to fill this out"
   ]
  },
  {
   "cell_type": "code",
   "execution_count": null,
   "metadata": {},
   "outputs": [],
   "source": [
    "# Library & Special Functions --------------------------------------------\n",
    "import pandas as pd\n",
    "import numpy as np\n",
    "import matplotlib as plt"
   ]
  },
  {
   "cell_type": "code",
   "execution_count": null,
   "metadata": {},
   "outputs": [],
   "source": [
    "# Load Data Files and Data Handling"
   ]
  },
  {
   "cell_type": "code",
   "execution_count": null,
   "metadata": {},
   "outputs": [],
   "source": [
    "# Analysis/Figures/Output"
   ]
  }
 ],
 "metadata": {
  "kernelspec": {
   "display_name": "Python 3",
   "language": "python",
   "name": "python3"
  },
  "language_info": {
   "codemirror_mode": {
    "name": "ipython",
    "version": 3
   },
   "file_extension": ".py",
   "mimetype": "text/x-python",
   "name": "python",
   "nbconvert_exporter": "python",
   "pygments_lexer": "ipython3",
   "version": "3.8.3"
  }
 },
 "nbformat": 4,
 "nbformat_minor": 4
}
